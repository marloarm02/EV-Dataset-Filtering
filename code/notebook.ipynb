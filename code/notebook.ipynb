{
 "cells": [
  {
   "cell_type": "code",
   "metadata": {
    "cell_id": "12d4b04d-418e-45c2-b411-7dc98ae74908",
    "tags": [],
    "deepnote_to_be_reexecuted": false,
    "source_hash": "769bea03",
    "execution_start": 1645636107574,
    "execution_millis": 1,
    "deepnote_cell_type": "code"
   },
   "source": "#----------------------------------------------------------------------------------------------------# Imports\n# This Python 3 environment comes with many helpful analytics libraries installed\n# It is defined by the deepnote/python Docker image found at https://github.com/deepnote/environments\n# For example, here's several helpful packages to load\n#----------------------------------------------------------------------------------------------------#\nimport requests\nimport numpy as np # linear algebra\nimport pandas as pd # data processing, CSV file I/O (e.g. pd.read_csv)\nimport os # used for operating system functions (like using file paths)\n#----------------------------------------------------------------------------------------------------# NOTE 1\n# Rememebr you have a 5GB disk storage limit\n# EV dataset\n# Nov. 10, 2020 - Present\n#----------------------------------------------------------------------------------------------------#\n\n#----------------------------------------------------------------------------------------------------# File paths\nroot_dir = '/root/work/EV-Dataset-Filtering' # GitHub Repo\ndata_root_dir = os.path.join(root_dir, 'Data')\nev_file_path = os.path.join(data_root_dir, 'Electric_Vehicle_Population_Data.csv')\nap_file_path = os.path.join(data_root_dir, 'WA_AP_Merged_Data.csv')",
   "execution_count": 19,
   "outputs": []
  },
  {
   "cell_type": "code",
   "metadata": {
    "tags": [],
    "cell_id": "b8f088b3-8ae4-472a-8cc8-ccc2ffabfcfe",
    "deepnote_to_be_reexecuted": false,
    "source_hash": "25deedc1",
    "execution_start": 1645633685125,
    "execution_millis": 188,
    "deepnote_output_heights": [
     606.5
    ],
    "deepnote_table_state": {
     "pageSize": 10,
     "pageIndex": 59,
     "filters": [],
     "sortBy": []
    },
    "deepnote_table_loading": false,
    "deepnote_table_invalid": true,
    "deepnote_cell_type": "code"
   },
   "source": "#----------------------------------------------------------------------------------------------------# API Data Download\n# Here we will use the EPA AQS API to download data, we will then use pandas to process/clean it\n\n### Warning: be aware that some APIs may block you if you do to many API calls, so be aware how often you make calls\n\n# get the urls\nurl1 = 'https://aqs.epa.gov/data/api/sampleData/byState?email=arm508928@d204.lths.net&key=indigocrane82&param=42101,42401,42602,88101&bdate=20201110&edate=20220125&state=53'\nurl2 = ''\n\n# download the data using requests\nreq1 = request.get(url1)\nreq2 = request.get(url2)\n\n# Convert the request to a json object \njson1 = req1.json()\n### write json2's code here\n\n# convert json object to pandas dataframe\ndf1 = pd.json_normalize(json1['Data'])\n### write df2's code here\n\n# join dataframe together (use either merge, concat, or join)\n# check ou https://pandas.pydata.org/pandas-docs/stable/user_guide/merging.html for help\n# merged_df =\n\n# Save to csv files\nmerged_df.to_csv(merged_data_fp)\n\n# display merged dataframe\ndisplay(merged_df)\n",
   "execution_count": 9,
   "outputs": [
    {
     "data": {
      "application/vnd.deepnote.dataframe.v3+json": {
       "column_count": 29,
       "row_count": 617,
       "columns": [
        {
         "name": "state_code",
         "dtype": "object",
         "stats": {
          "unique_count": 1,
          "nan_count": 0,
          "categories": [
           {
            "name": "53",
            "count": 617
           }
          ]
         }
        },
        {
         "name": "county_code",
         "dtype": "object",
         "stats": {
          "unique_count": 11,
          "nan_count": 0,
          "categories": [
           {
            "name": "033",
            "count": 189
           },
           {
            "name": "063",
            "count": 96
           },
           {
            "name": "9 others",
            "count": 332
           }
          ]
         }
        },
        {
         "name": "site_number",
         "dtype": "object",
         "stats": {
          "unique_count": 20,
          "nan_count": 0,
          "categories": [
           {
            "name": "0010",
            "count": 95
           },
           {
            "name": "0012",
            "count": 72
           },
           {
            "name": "18 others",
            "count": 450
           }
          ]
         }
        },
        {
         "name": "parameter_code",
         "dtype": "object",
         "stats": {
          "unique_count": 3,
          "nan_count": 0,
          "categories": [
           {
            "name": "42101",
            "count": 381
           },
           {
            "name": "42401",
            "count": 213
           },
           {
            "name": "42602",
            "count": 23
           }
          ]
         }
        },
        {
         "name": "poc",
         "dtype": "int64",
         "stats": {
          "unique_count": 2,
          "nan_count": 0,
          "min": "1",
          "max": "2",
          "histogram": [
           {
            "bin_start": 1,
            "bin_end": 1.1,
            "count": 571
           },
           {
            "bin_start": 1.1,
            "bin_end": 1.2,
            "count": 0
           },
           {
            "bin_start": 1.2,
            "bin_end": 1.3,
            "count": 0
           },
           {
            "bin_start": 1.3,
            "bin_end": 1.4,
            "count": 0
           },
           {
            "bin_start": 1.4,
            "bin_end": 1.5,
            "count": 0
           },
           {
            "bin_start": 1.5,
            "bin_end": 1.6,
            "count": 0
           },
           {
            "bin_start": 1.6,
            "bin_end": 1.7000000000000002,
            "count": 0
           },
           {
            "bin_start": 1.7000000000000002,
            "bin_end": 1.8,
            "count": 0
           },
           {
            "bin_start": 1.8,
            "bin_end": 1.9,
            "count": 0
           },
           {
            "bin_start": 1.9,
            "bin_end": 2,
            "count": 46
           }
          ]
         }
        },
        {
         "name": "latitude",
         "dtype": "float64",
         "stats": {
          "unique_count": 26,
          "nan_count": 0,
          "min": "45.63845",
          "max": "48.750109",
          "histogram": [
           {
            "bin_start": 45.63845,
            "bin_end": 45.9496159,
            "count": 24
           },
           {
            "bin_start": 45.9496159,
            "bin_end": 46.2607818,
            "count": 0
           },
           {
            "bin_start": 46.2607818,
            "bin_end": 46.5719477,
            "count": 0
           },
           {
            "bin_start": 46.5719477,
            "bin_end": 46.8831136,
            "count": 23
           },
           {
            "bin_start": 46.8831136,
            "bin_end": 47.1942795,
            "count": 24
           },
           {
            "bin_start": 47.1942795,
            "bin_end": 47.5054454,
            "count": 71
           },
           {
            "bin_start": 47.5054454,
            "bin_end": 47.8166113,
            "count": 309
           },
           {
            "bin_start": 47.8166113,
            "bin_end": 48.127777200000004,
            "count": 95
           },
           {
            "bin_start": 48.127777200000004,
            "bin_end": 48.4389431,
            "count": 0
           },
           {
            "bin_start": 48.4389431,
            "bin_end": 48.750109,
            "count": 71
           }
          ]
         }
        },
        {
         "name": "longitude",
         "dtype": "float64",
         "stats": {
          "unique_count": 26,
          "nan_count": 0,
          "min": "-123.426853",
          "max": "-117.396324",
          "histogram": [
           {
            "bin_start": -123.426853,
            "bin_end": -122.8238001,
            "count": 72
           },
           {
            "bin_start": -122.8238001,
            "bin_end": -122.22074719999999,
            "count": 331
           },
           {
            "bin_start": -122.22074719999999,
            "bin_end": -121.6176943,
            "count": 95
           },
           {
            "bin_start": -121.6176943,
            "bin_end": -121.0146414,
            "count": 0
           },
           {
            "bin_start": -121.0146414,
            "bin_end": -120.4115885,
            "count": 23
           },
           {
            "bin_start": -120.4115885,
            "bin_end": -119.8085356,
            "count": 0
           },
           {
            "bin_start": -119.8085356,
            "bin_end": -119.2054827,
            "count": 0
           },
           {
            "bin_start": -119.2054827,
            "bin_end": -118.60242980000001,
            "count": 0
           },
           {
            "bin_start": -118.60242980000001,
            "bin_end": -117.9993769,
            "count": 0
           },
           {
            "bin_start": -117.9993769,
            "bin_end": -117.396324,
            "count": 96
           }
          ]
         }
        },
        {
         "name": "datum",
         "dtype": "object",
         "stats": {
          "unique_count": 1,
          "nan_count": 0,
          "categories": [
           {
            "name": "WGS84",
            "count": 617
           }
          ]
         }
        },
        {
         "name": "parameter",
         "dtype": "object",
         "stats": {
          "unique_count": 3,
          "nan_count": 0,
          "categories": [
           {
            "name": "Carbon monoxide",
            "count": 381
           },
           {
            "name": "Sulfur dioxide",
            "count": 213
           },
           {
            "name": "Nitrogen dioxide (NO2)",
            "count": 23
           }
          ]
         }
        },
        {
         "name": "date_local",
         "dtype": "object",
         "stats": {
          "unique_count": 1,
          "nan_count": 0,
          "categories": [
           {
            "name": "1995-05-15",
            "count": 617
           }
          ]
         }
        },
        {
         "name": "time_local",
         "dtype": "object",
         "stats": {
          "unique_count": 24,
          "nan_count": 0,
          "categories": [
           {
            "name": "23:00",
            "count": 26
           },
           {
            "name": "22:00",
            "count": 26
           },
           {
            "name": "22 others",
            "count": 565
           }
          ]
         }
        },
        {
         "name": "date_gmt",
         "dtype": "object",
         "stats": {
          "unique_count": 2,
          "nan_count": 0,
          "categories": [
           {
            "name": "1995-05-15",
            "count": 409
           },
           {
            "name": "1995-05-16",
            "count": 208
           }
          ]
         }
        },
        {
         "name": "time_gmt",
         "dtype": "object",
         "stats": {
          "unique_count": 24,
          "nan_count": 0,
          "categories": [
           {
            "name": "07:00",
            "count": 26
           },
           {
            "name": "06:00",
            "count": 26
           },
           {
            "name": "22 others",
            "count": 565
           }
          ]
         }
        },
        {
         "name": "sample_measurement",
         "dtype": "float64",
         "stats": {
          "unique_count": 79,
          "nan_count": 2,
          "min": "0.0",
          "max": "102.0",
          "histogram": [
           {
            "bin_start": 0,
            "bin_end": 10.2,
            "count": 563
           },
           {
            "bin_start": 10.2,
            "bin_end": 20.4,
            "count": 29
           },
           {
            "bin_start": 20.4,
            "bin_end": 30.599999999999998,
            "count": 9
           },
           {
            "bin_start": 30.599999999999998,
            "bin_end": 40.8,
            "count": 4
           },
           {
            "bin_start": 40.8,
            "bin_end": 51,
            "count": 5
           },
           {
            "bin_start": 51,
            "bin_end": 61.199999999999996,
            "count": 0
           },
           {
            "bin_start": 61.199999999999996,
            "bin_end": 71.39999999999999,
            "count": 1
           },
           {
            "bin_start": 71.39999999999999,
            "bin_end": 81.6,
            "count": 1
           },
           {
            "bin_start": 81.6,
            "bin_end": 91.8,
            "count": 0
           },
           {
            "bin_start": 91.8,
            "bin_end": 102,
            "count": 3
           }
          ]
         }
        },
        {
         "name": "units_of_measure",
         "dtype": "object",
         "stats": {
          "unique_count": 2,
          "nan_count": 0,
          "categories": [
           {
            "name": "Parts per million",
            "count": 381
           },
           {
            "name": "Parts per billion",
            "count": 236
           }
          ]
         }
        },
        {
         "name": "units_of_measure_code",
         "dtype": "object",
         "stats": {
          "unique_count": 2,
          "nan_count": 0,
          "categories": [
           {
            "name": "007",
            "count": 381
           },
           {
            "name": "008",
            "count": 236
           }
          ]
         }
        },
        {
         "name": "sample_duration",
         "dtype": "object",
         "stats": {
          "unique_count": 1,
          "nan_count": 0,
          "categories": [
           {
            "name": "1 HOUR",
            "count": 617
           }
          ]
         }
        },
        {
         "name": "sample_duration_code",
         "dtype": "object",
         "stats": {
          "unique_count": 1,
          "nan_count": 0,
          "categories": [
           {
            "name": "1",
            "count": 617
           }
          ]
         }
        },
        {
         "name": "sample_frequency",
         "dtype": "object",
         "stats": {
          "unique_count": 1,
          "nan_count": 0,
          "categories": [
           {
            "name": "HOURLY",
            "count": 617
           }
          ]
         }
        },
        {
         "name": "detection_limit",
         "dtype": "float64",
         "stats": {
          "unique_count": 3,
          "nan_count": 0,
          "min": "0.5",
          "max": "2.7",
          "histogram": [
           {
            "bin_start": 0.5,
            "bin_end": 0.72,
            "count": 381
           },
           {
            "bin_start": 0.72,
            "bin_end": 0.9400000000000001,
            "count": 0
           },
           {
            "bin_start": 0.9400000000000001,
            "bin_end": 1.1600000000000001,
            "count": 0
           },
           {
            "bin_start": 1.1600000000000001,
            "bin_end": 1.3800000000000001,
            "count": 0
           },
           {
            "bin_start": 1.3800000000000001,
            "bin_end": 1.6,
            "count": 0
           },
           {
            "bin_start": 1.6,
            "bin_end": 1.8200000000000003,
            "count": 0
           },
           {
            "bin_start": 1.8200000000000003,
            "bin_end": 2.04,
            "count": 213
           },
           {
            "bin_start": 2.04,
            "bin_end": 2.2600000000000002,
            "count": 0
           },
           {
            "bin_start": 2.2600000000000002,
            "bin_end": 2.4800000000000004,
            "count": 0
           },
           {
            "bin_start": 2.4800000000000004,
            "bin_end": 2.7,
            "count": 23
           }
          ]
         }
        },
        {
         "name": "uncertainty",
         "dtype": "object",
         "stats": {
          "unique_count": 0,
          "nan_count": 617,
          "categories": [
           {
            "name": "Missing",
            "count": 617
           }
          ]
         }
        },
        {
         "name": "qualifier",
         "dtype": "object",
         "stats": {
          "unique_count": 1,
          "nan_count": 615,
          "categories": [
           {
            "name": "AY - Q C Control Points (zero/span).",
            "count": 2
           },
           {
            "name": "Missing",
            "count": 615
           }
          ]
         }
        },
        {
         "name": "method_type",
         "dtype": "object",
         "stats": {
          "unique_count": 3,
          "nan_count": 0,
          "categories": [
           {
            "name": "Non-FRM",
            "count": 522
           },
           {
            "name": "FEM",
            "count": 48
           },
           {
            "name": "FRM",
            "count": 47
           }
          ]
         }
        },
        {
         "name": "method",
         "dtype": "object",
         "stats": {
          "unique_count": 4,
          "nan_count": 0,
          "categories": [
           {
            "name": "INSTRUMENTAL - NONDISPERSIVE INFRARED",
            "count": 381
           },
           {
            "name": "INSTRUMENTAL - PULSED FLUORESCENT",
            "count": 189
           },
           {
            "name": "2 others",
            "count": 47
           }
          ]
         }
        },
        {
         "name": "method_code",
         "dtype": "object",
         "stats": {
          "unique_count": 6,
          "nan_count": 0,
          "categories": [
           {
            "name": "011",
            "count": 357
           },
           {
            "name": "020",
            "count": 165
           },
           {
            "name": "4 others",
            "count": 95
           }
          ]
         }
        },
        {
         "name": "state",
         "dtype": "object",
         "stats": {
          "unique_count": 1,
          "nan_count": 0,
          "categories": [
           {
            "name": "Washington",
            "count": 617
           }
          ]
         }
        },
        {
         "name": "county",
         "dtype": "object",
         "stats": {
          "unique_count": 11,
          "nan_count": 0,
          "categories": [
           {
            "name": "King",
            "count": 189
           },
           {
            "name": "Spokane",
            "count": 96
           },
           {
            "name": "9 others",
            "count": 332
           }
          ]
         }
        },
        {
         "name": "date_of_last_change",
         "dtype": "object",
         "stats": {
          "unique_count": 0,
          "nan_count": 617,
          "categories": [
           {
            "name": "Missing",
            "count": 617
           }
          ]
         }
        },
        {
         "name": "cbsa_code",
         "dtype": "object",
         "stats": {
          "unique_count": 9,
          "nan_count": 0,
          "categories": [
           {
            "name": "42660",
            "count": 307
           },
           {
            "name": "44060",
            "count": 96
           },
           {
            "name": "7 others",
            "count": 214
           }
          ]
         }
        },
        {
         "name": "_deepnote_index_column",
         "dtype": "int64"
        }
       ],
       "rows": [
        {
         "state_code": "53",
         "county_code": "057",
         "site_number": "0012",
         "parameter_code": "42401",
         "poc": 1,
         "latitude": 48.493438,
         "longitude": -122.553224,
         "datum": "WGS84",
         "parameter": "Sulfur dioxide",
         "date_local": "1995-05-15",
         "time_local": "23:00",
         "date_gmt": "1995-05-16",
         "time_gmt": "07:00",
         "sample_measurement": 1,
         "units_of_measure": "Parts per billion",
         "units_of_measure_code": "008",
         "sample_duration": "1 HOUR",
         "sample_duration_code": "1",
         "sample_frequency": "HOURLY",
         "detection_limit": 2,
         "uncertainty": "None",
         "qualifier": "None",
         "method_type": "FEM",
         "method": "INSTRUMENTAL - PULSED FLUORESCENT",
         "method_code": "009",
         "state": "Washington",
         "county": "Skagit",
         "date_of_last_change": "None",
         "cbsa_code": "34580",
         "_deepnote_index_column": 0
        },
        {
         "state_code": "53",
         "county_code": "057",
         "site_number": "0012",
         "parameter_code": "42401",
         "poc": 1,
         "latitude": 48.493438,
         "longitude": -122.553224,
         "datum": "WGS84",
         "parameter": "Sulfur dioxide",
         "date_local": "1995-05-15",
         "time_local": "22:00",
         "date_gmt": "1995-05-16",
         "time_gmt": "06:00",
         "sample_measurement": 1,
         "units_of_measure": "Parts per billion",
         "units_of_measure_code": "008",
         "sample_duration": "1 HOUR",
         "sample_duration_code": "1",
         "sample_frequency": "HOURLY",
         "detection_limit": 2,
         "uncertainty": "None",
         "qualifier": "None",
         "method_type": "FEM",
         "method": "INSTRUMENTAL - PULSED FLUORESCENT",
         "method_code": "009",
         "state": "Washington",
         "county": "Skagit",
         "date_of_last_change": "None",
         "cbsa_code": "34580",
         "_deepnote_index_column": 1
        },
        {
         "state_code": "53",
         "county_code": "057",
         "site_number": "0012",
         "parameter_code": "42401",
         "poc": 1,
         "latitude": 48.493438,
         "longitude": -122.553224,
         "datum": "WGS84",
         "parameter": "Sulfur dioxide",
         "date_local": "1995-05-15",
         "time_local": "21:00",
         "date_gmt": "1995-05-16",
         "time_gmt": "05:00",
         "sample_measurement": 0,
         "units_of_measure": "Parts per billion",
         "units_of_measure_code": "008",
         "sample_duration": "1 HOUR",
         "sample_duration_code": "1",
         "sample_frequency": "HOURLY",
         "detection_limit": 2,
         "uncertainty": "None",
         "qualifier": "None",
         "method_type": "FEM",
         "method": "INSTRUMENTAL - PULSED FLUORESCENT",
         "method_code": "009",
         "state": "Washington",
         "county": "Skagit",
         "date_of_last_change": "None",
         "cbsa_code": "34580",
         "_deepnote_index_column": 2
        },
        {
         "state_code": "53",
         "county_code": "057",
         "site_number": "0012",
         "parameter_code": "42401",
         "poc": 1,
         "latitude": 48.493438,
         "longitude": -122.553224,
         "datum": "WGS84",
         "parameter": "Sulfur dioxide",
         "date_local": "1995-05-15",
         "time_local": "20:00",
         "date_gmt": "1995-05-16",
         "time_gmt": "04:00",
         "sample_measurement": 1,
         "units_of_measure": "Parts per billion",
         "units_of_measure_code": "008",
         "sample_duration": "1 HOUR",
         "sample_duration_code": "1",
         "sample_frequency": "HOURLY",
         "detection_limit": 2,
         "uncertainty": "None",
         "qualifier": "None",
         "method_type": "FEM",
         "method": "INSTRUMENTAL - PULSED FLUORESCENT",
         "method_code": "009",
         "state": "Washington",
         "county": "Skagit",
         "date_of_last_change": "None",
         "cbsa_code": "34580",
         "_deepnote_index_column": 3
        },
        {
         "state_code": "53",
         "county_code": "057",
         "site_number": "0012",
         "parameter_code": "42401",
         "poc": 1,
         "latitude": 48.493438,
         "longitude": -122.553224,
         "datum": "WGS84",
         "parameter": "Sulfur dioxide",
         "date_local": "1995-05-15",
         "time_local": "19:00",
         "date_gmt": "1995-05-16",
         "time_gmt": "03:00",
         "sample_measurement": 1,
         "units_of_measure": "Parts per billion",
         "units_of_measure_code": "008",
         "sample_duration": "1 HOUR",
         "sample_duration_code": "1",
         "sample_frequency": "HOURLY",
         "detection_limit": 2,
         "uncertainty": "None",
         "qualifier": "None",
         "method_type": "FEM",
         "method": "INSTRUMENTAL - PULSED FLUORESCENT",
         "method_code": "009",
         "state": "Washington",
         "county": "Skagit",
         "date_of_last_change": "None",
         "cbsa_code": "34580",
         "_deepnote_index_column": 4
        },
        {
         "state_code": "53",
         "county_code": "057",
         "site_number": "0012",
         "parameter_code": "42401",
         "poc": 1,
         "latitude": 48.493438,
         "longitude": -122.553224,
         "datum": "WGS84",
         "parameter": "Sulfur dioxide",
         "date_local": "1995-05-15",
         "time_local": "18:00",
         "date_gmt": "1995-05-16",
         "time_gmt": "02:00",
         "sample_measurement": 1,
         "units_of_measure": "Parts per billion",
         "units_of_measure_code": "008",
         "sample_duration": "1 HOUR",
         "sample_duration_code": "1",
         "sample_frequency": "HOURLY",
         "detection_limit": 2,
         "uncertainty": "None",
         "qualifier": "None",
         "method_type": "FEM",
         "method": "INSTRUMENTAL - PULSED FLUORESCENT",
         "method_code": "009",
         "state": "Washington",
         "county": "Skagit",
         "date_of_last_change": "None",
         "cbsa_code": "34580",
         "_deepnote_index_column": 5
        },
        {
         "state_code": "53",
         "county_code": "057",
         "site_number": "0012",
         "parameter_code": "42401",
         "poc": 1,
         "latitude": 48.493438,
         "longitude": -122.553224,
         "datum": "WGS84",
         "parameter": "Sulfur dioxide",
         "date_local": "1995-05-15",
         "time_local": "17:00",
         "date_gmt": "1995-05-16",
         "time_gmt": "01:00",
         "sample_measurement": 1,
         "units_of_measure": "Parts per billion",
         "units_of_measure_code": "008",
         "sample_duration": "1 HOUR",
         "sample_duration_code": "1",
         "sample_frequency": "HOURLY",
         "detection_limit": 2,
         "uncertainty": "None",
         "qualifier": "None",
         "method_type": "FEM",
         "method": "INSTRUMENTAL - PULSED FLUORESCENT",
         "method_code": "009",
         "state": "Washington",
         "county": "Skagit",
         "date_of_last_change": "None",
         "cbsa_code": "34580",
         "_deepnote_index_column": 6
        },
        {
         "state_code": "53",
         "county_code": "057",
         "site_number": "0012",
         "parameter_code": "42401",
         "poc": 1,
         "latitude": 48.493438,
         "longitude": -122.553224,
         "datum": "WGS84",
         "parameter": "Sulfur dioxide",
         "date_local": "1995-05-15",
         "time_local": "16:00",
         "date_gmt": "1995-05-16",
         "time_gmt": "00:00",
         "sample_measurement": 1,
         "units_of_measure": "Parts per billion",
         "units_of_measure_code": "008",
         "sample_duration": "1 HOUR",
         "sample_duration_code": "1",
         "sample_frequency": "HOURLY",
         "detection_limit": 2,
         "uncertainty": "None",
         "qualifier": "None",
         "method_type": "FEM",
         "method": "INSTRUMENTAL - PULSED FLUORESCENT",
         "method_code": "009",
         "state": "Washington",
         "county": "Skagit",
         "date_of_last_change": "None",
         "cbsa_code": "34580",
         "_deepnote_index_column": 7
        },
        {
         "state_code": "53",
         "county_code": "057",
         "site_number": "0012",
         "parameter_code": "42401",
         "poc": 1,
         "latitude": 48.493438,
         "longitude": -122.553224,
         "datum": "WGS84",
         "parameter": "Sulfur dioxide",
         "date_local": "1995-05-15",
         "time_local": "15:00",
         "date_gmt": "1995-05-15",
         "time_gmt": "23:00",
         "sample_measurement": 2,
         "units_of_measure": "Parts per billion",
         "units_of_measure_code": "008",
         "sample_duration": "1 HOUR",
         "sample_duration_code": "1",
         "sample_frequency": "HOURLY",
         "detection_limit": 2,
         "uncertainty": "None",
         "qualifier": "None",
         "method_type": "FEM",
         "method": "INSTRUMENTAL - PULSED FLUORESCENT",
         "method_code": "009",
         "state": "Washington",
         "county": "Skagit",
         "date_of_last_change": "None",
         "cbsa_code": "34580",
         "_deepnote_index_column": 8
        },
        {
         "state_code": "53",
         "county_code": "057",
         "site_number": "0012",
         "parameter_code": "42401",
         "poc": 1,
         "latitude": 48.493438,
         "longitude": -122.553224,
         "datum": "WGS84",
         "parameter": "Sulfur dioxide",
         "date_local": "1995-05-15",
         "time_local": "14:00",
         "date_gmt": "1995-05-15",
         "time_gmt": "22:00",
         "sample_measurement": 7,
         "units_of_measure": "Parts per billion",
         "units_of_measure_code": "008",
         "sample_duration": "1 HOUR",
         "sample_duration_code": "1",
         "sample_frequency": "HOURLY",
         "detection_limit": 2,
         "uncertainty": "None",
         "qualifier": "None",
         "method_type": "FEM",
         "method": "INSTRUMENTAL - PULSED FLUORESCENT",
         "method_code": "009",
         "state": "Washington",
         "county": "Skagit",
         "date_of_last_change": "None",
         "cbsa_code": "34580",
         "_deepnote_index_column": 9
        }
       ]
      },
      "text/plain": "    state_code county_code site_number parameter_code  poc   latitude  \\\n0           53         057        0012          42401    1  48.493438   \n1           53         057        0012          42401    1  48.493438   \n2           53         057        0012          42401    1  48.493438   \n3           53         057        0012          42401    1  48.493438   \n4           53         057        0012          42401    1  48.493438   \n..         ...         ...         ...            ...  ...        ...   \n612         53         033        0080          42602    1  47.568236   \n613         53         033        0080          42602    1  47.568236   \n614         53         033        0080          42602    1  47.568236   \n615         53         033        0080          42602    1  47.568236   \n616         53         033        0080          42602    1  47.568236   \n\n      longitude  datum               parameter  date_local  ...  \\\n0   -122.553224  WGS84          Sulfur dioxide  1995-05-15  ...   \n1   -122.553224  WGS84          Sulfur dioxide  1995-05-15  ...   \n2   -122.553224  WGS84          Sulfur dioxide  1995-05-15  ...   \n3   -122.553224  WGS84          Sulfur dioxide  1995-05-15  ...   \n4   -122.553224  WGS84          Sulfur dioxide  1995-05-15  ...   \n..          ...    ...                     ...         ...  ...   \n612 -122.308628  WGS84  Nitrogen dioxide (NO2)  1995-05-15  ...   \n613 -122.308628  WGS84  Nitrogen dioxide (NO2)  1995-05-15  ...   \n614 -122.308628  WGS84  Nitrogen dioxide (NO2)  1995-05-15  ...   \n615 -122.308628  WGS84  Nitrogen dioxide (NO2)  1995-05-15  ...   \n616 -122.308628  WGS84  Nitrogen dioxide (NO2)  1995-05-15  ...   \n\n    detection_limit uncertainty qualifier  method_type  \\\n0               2.0        None      None          FEM   \n1               2.0        None      None          FEM   \n2               2.0        None      None          FEM   \n3               2.0        None      None          FEM   \n4               2.0        None      None          FEM   \n..              ...         ...       ...          ...   \n612             2.7        None      None          FRM   \n613             2.7        None      None          FRM   \n614             2.7        None      None          FRM   \n615             2.7        None      None          FRM   \n616             2.7        None      None          FRM   \n\n                                         method method_code       state  \\\n0             INSTRUMENTAL - PULSED FLUORESCENT         009  Washington   \n1             INSTRUMENTAL - PULSED FLUORESCENT         009  Washington   \n2             INSTRUMENTAL - PULSED FLUORESCENT         009  Washington   \n3             INSTRUMENTAL - PULSED FLUORESCENT         009  Washington   \n4             INSTRUMENTAL - PULSED FLUORESCENT         009  Washington   \n..                                          ...         ...         ...   \n612  INSTRUMENTAL - GAS PHASE CHEMILUMINESCENCE         099  Washington   \n613  INSTRUMENTAL - GAS PHASE CHEMILUMINESCENCE         099  Washington   \n614  INSTRUMENTAL - GAS PHASE CHEMILUMINESCENCE         099  Washington   \n615  INSTRUMENTAL - GAS PHASE CHEMILUMINESCENCE         099  Washington   \n616  INSTRUMENTAL - GAS PHASE CHEMILUMINESCENCE         099  Washington   \n\n     county date_of_last_change  cbsa_code  \n0    Skagit                None      34580  \n1    Skagit                None      34580  \n2    Skagit                None      34580  \n3    Skagit                None      34580  \n4    Skagit                None      34580  \n..      ...                 ...        ...  \n612    King                None      42660  \n613    King                None      42660  \n614    King                None      42660  \n615    King                None      42660  \n616    King                None      42660  \n\n[617 rows x 29 columns]",
      "text/html": "<div>\n<style scoped>\n    .dataframe tbody tr th:only-of-type {\n        vertical-align: middle;\n    }\n\n    .dataframe tbody tr th {\n        vertical-align: top;\n    }\n\n    .dataframe thead th {\n        text-align: right;\n    }\n</style>\n<table border=\"1\" class=\"dataframe\">\n  <thead>\n    <tr style=\"text-align: right;\">\n      <th></th>\n      <th>state_code</th>\n      <th>county_code</th>\n      <th>site_number</th>\n      <th>parameter_code</th>\n      <th>poc</th>\n      <th>latitude</th>\n      <th>longitude</th>\n      <th>datum</th>\n      <th>parameter</th>\n      <th>date_local</th>\n      <th>...</th>\n      <th>detection_limit</th>\n      <th>uncertainty</th>\n      <th>qualifier</th>\n      <th>method_type</th>\n      <th>method</th>\n      <th>method_code</th>\n      <th>state</th>\n      <th>county</th>\n      <th>date_of_last_change</th>\n      <th>cbsa_code</th>\n    </tr>\n  </thead>\n  <tbody>\n    <tr>\n      <th>0</th>\n      <td>53</td>\n      <td>057</td>\n      <td>0012</td>\n      <td>42401</td>\n      <td>1</td>\n      <td>48.493438</td>\n      <td>-122.553224</td>\n      <td>WGS84</td>\n      <td>Sulfur dioxide</td>\n      <td>1995-05-15</td>\n      <td>...</td>\n      <td>2.0</td>\n      <td>None</td>\n      <td>None</td>\n      <td>FEM</td>\n      <td>INSTRUMENTAL - PULSED FLUORESCENT</td>\n      <td>009</td>\n      <td>Washington</td>\n      <td>Skagit</td>\n      <td>None</td>\n      <td>34580</td>\n    </tr>\n    <tr>\n      <th>1</th>\n      <td>53</td>\n      <td>057</td>\n      <td>0012</td>\n      <td>42401</td>\n      <td>1</td>\n      <td>48.493438</td>\n      <td>-122.553224</td>\n      <td>WGS84</td>\n      <td>Sulfur dioxide</td>\n      <td>1995-05-15</td>\n      <td>...</td>\n      <td>2.0</td>\n      <td>None</td>\n      <td>None</td>\n      <td>FEM</td>\n      <td>INSTRUMENTAL - PULSED FLUORESCENT</td>\n      <td>009</td>\n      <td>Washington</td>\n      <td>Skagit</td>\n      <td>None</td>\n      <td>34580</td>\n    </tr>\n    <tr>\n      <th>2</th>\n      <td>53</td>\n      <td>057</td>\n      <td>0012</td>\n      <td>42401</td>\n      <td>1</td>\n      <td>48.493438</td>\n      <td>-122.553224</td>\n      <td>WGS84</td>\n      <td>Sulfur dioxide</td>\n      <td>1995-05-15</td>\n      <td>...</td>\n      <td>2.0</td>\n      <td>None</td>\n      <td>None</td>\n      <td>FEM</td>\n      <td>INSTRUMENTAL - PULSED FLUORESCENT</td>\n      <td>009</td>\n      <td>Washington</td>\n      <td>Skagit</td>\n      <td>None</td>\n      <td>34580</td>\n    </tr>\n    <tr>\n      <th>3</th>\n      <td>53</td>\n      <td>057</td>\n      <td>0012</td>\n      <td>42401</td>\n      <td>1</td>\n      <td>48.493438</td>\n      <td>-122.553224</td>\n      <td>WGS84</td>\n      <td>Sulfur dioxide</td>\n      <td>1995-05-15</td>\n      <td>...</td>\n      <td>2.0</td>\n      <td>None</td>\n      <td>None</td>\n      <td>FEM</td>\n      <td>INSTRUMENTAL - PULSED FLUORESCENT</td>\n      <td>009</td>\n      <td>Washington</td>\n      <td>Skagit</td>\n      <td>None</td>\n      <td>34580</td>\n    </tr>\n    <tr>\n      <th>4</th>\n      <td>53</td>\n      <td>057</td>\n      <td>0012</td>\n      <td>42401</td>\n      <td>1</td>\n      <td>48.493438</td>\n      <td>-122.553224</td>\n      <td>WGS84</td>\n      <td>Sulfur dioxide</td>\n      <td>1995-05-15</td>\n      <td>...</td>\n      <td>2.0</td>\n      <td>None</td>\n      <td>None</td>\n      <td>FEM</td>\n      <td>INSTRUMENTAL - PULSED FLUORESCENT</td>\n      <td>009</td>\n      <td>Washington</td>\n      <td>Skagit</td>\n      <td>None</td>\n      <td>34580</td>\n    </tr>\n    <tr>\n      <th>...</th>\n      <td>...</td>\n      <td>...</td>\n      <td>...</td>\n      <td>...</td>\n      <td>...</td>\n      <td>...</td>\n      <td>...</td>\n      <td>...</td>\n      <td>...</td>\n      <td>...</td>\n      <td>...</td>\n      <td>...</td>\n      <td>...</td>\n      <td>...</td>\n      <td>...</td>\n      <td>...</td>\n      <td>...</td>\n      <td>...</td>\n      <td>...</td>\n      <td>...</td>\n      <td>...</td>\n    </tr>\n    <tr>\n      <th>612</th>\n      <td>53</td>\n      <td>033</td>\n      <td>0080</td>\n      <td>42602</td>\n      <td>1</td>\n      <td>47.568236</td>\n      <td>-122.308628</td>\n      <td>WGS84</td>\n      <td>Nitrogen dioxide (NO2)</td>\n      <td>1995-05-15</td>\n      <td>...</td>\n      <td>2.7</td>\n      <td>None</td>\n      <td>None</td>\n      <td>FRM</td>\n      <td>INSTRUMENTAL - GAS PHASE CHEMILUMINESCENCE</td>\n      <td>099</td>\n      <td>Washington</td>\n      <td>King</td>\n      <td>None</td>\n      <td>42660</td>\n    </tr>\n    <tr>\n      <th>613</th>\n      <td>53</td>\n      <td>033</td>\n      <td>0080</td>\n      <td>42602</td>\n      <td>1</td>\n      <td>47.568236</td>\n      <td>-122.308628</td>\n      <td>WGS84</td>\n      <td>Nitrogen dioxide (NO2)</td>\n      <td>1995-05-15</td>\n      <td>...</td>\n      <td>2.7</td>\n      <td>None</td>\n      <td>None</td>\n      <td>FRM</td>\n      <td>INSTRUMENTAL - GAS PHASE CHEMILUMINESCENCE</td>\n      <td>099</td>\n      <td>Washington</td>\n      <td>King</td>\n      <td>None</td>\n      <td>42660</td>\n    </tr>\n    <tr>\n      <th>614</th>\n      <td>53</td>\n      <td>033</td>\n      <td>0080</td>\n      <td>42602</td>\n      <td>1</td>\n      <td>47.568236</td>\n      <td>-122.308628</td>\n      <td>WGS84</td>\n      <td>Nitrogen dioxide (NO2)</td>\n      <td>1995-05-15</td>\n      <td>...</td>\n      <td>2.7</td>\n      <td>None</td>\n      <td>None</td>\n      <td>FRM</td>\n      <td>INSTRUMENTAL - GAS PHASE CHEMILUMINESCENCE</td>\n      <td>099</td>\n      <td>Washington</td>\n      <td>King</td>\n      <td>None</td>\n      <td>42660</td>\n    </tr>\n    <tr>\n      <th>615</th>\n      <td>53</td>\n      <td>033</td>\n      <td>0080</td>\n      <td>42602</td>\n      <td>1</td>\n      <td>47.568236</td>\n      <td>-122.308628</td>\n      <td>WGS84</td>\n      <td>Nitrogen dioxide (NO2)</td>\n      <td>1995-05-15</td>\n      <td>...</td>\n      <td>2.7</td>\n      <td>None</td>\n      <td>None</td>\n      <td>FRM</td>\n      <td>INSTRUMENTAL - GAS PHASE CHEMILUMINESCENCE</td>\n      <td>099</td>\n      <td>Washington</td>\n      <td>King</td>\n      <td>None</td>\n      <td>42660</td>\n    </tr>\n    <tr>\n      <th>616</th>\n      <td>53</td>\n      <td>033</td>\n      <td>0080</td>\n      <td>42602</td>\n      <td>1</td>\n      <td>47.568236</td>\n      <td>-122.308628</td>\n      <td>WGS84</td>\n      <td>Nitrogen dioxide (NO2)</td>\n      <td>1995-05-15</td>\n      <td>...</td>\n      <td>2.7</td>\n      <td>None</td>\n      <td>None</td>\n      <td>FRM</td>\n      <td>INSTRUMENTAL - GAS PHASE CHEMILUMINESCENCE</td>\n      <td>099</td>\n      <td>Washington</td>\n      <td>King</td>\n      <td>None</td>\n      <td>42660</td>\n    </tr>\n  </tbody>\n</table>\n<p>617 rows × 29 columns</p>\n</div>"
     },
     "metadata": {},
     "output_type": "display_data"
    }
   ]
  },
  {
   "cell_type": "code",
   "source": "#----------------------------------------------------------------------------------------------------# Data Pre-processing (EV)\nev_data = pd.read_csv(ev_file_path) \nprint(ev_data.columns)\n\ncolumns_of_interest = ['County', 'Electric Vehicle Type']\ntwo_columns_of_data = ev_data[columns_of_interest]",
   "metadata": {
    "cell_id": "99836e56-a48a-4a7c-bbf7-3bc00650c9df",
    "tags": [],
    "deepnote_cell_type": "code"
   },
   "outputs": [],
   "execution_count": null
  },
  {
   "cell_type": "code",
   "source": "#----------------------------------------------------------------------------------------------------# Data Pre-processing (AP)\nap_data = pd.read_csv(ap_file_path) \nprint(ap_data.columns)\n\ncolumns_of_interest = ['Paste the columns you want to use here']\nap_filtered_data = ap_data[columns_of_interest]",
   "metadata": {
    "cell_id": "49586f7d-9f85-40e3-a5af-7df044385515",
    "tags": [],
    "deepnote_cell_type": "code"
   },
   "outputs": [],
   "execution_count": null
  },
  {
   "cell_type": "markdown",
   "source": "<a style='text-decoration:none;line-height:16px;display:flex;color:#5B5B62;padding:10px;justify-content:end;' href='https://deepnote.com?utm_source=created-in-deepnote-cell&projectId=c52b9de7-c92d-449d-9e69-3ab621f1c6ac' target=\"_blank\">\n<img alt='Created in deepnote.com' style='display:inline;max-height:16px;margin:0px;margin-right:7.5px;' src='data:image/svg+xml;base64,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' > </img>\nCreated in <span style='font-weight:600;margin-left:4px;'>Deepnote</span></a>",
   "metadata": {
    "tags": [],
    "created_in_deepnote_cell": true,
    "deepnote_cell_type": "markdown"
   }
  }
 ],
 "nbformat": 4,
 "nbformat_minor": 2,
 "metadata": {
  "orig_nbformat": 2,
  "deepnote": {
   "is_reactive": false
  },
  "deepnote_notebook_id": "6121fcd8-f153-4daa-b06a-039efe060b0c",
  "deepnote_execution_queue": []
 }
}