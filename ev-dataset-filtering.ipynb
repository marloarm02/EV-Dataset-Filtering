{
 "cells": [
  {
   "cell_type": "code",
   "execution_count": 1,
   "id": "1f74608c",
   "metadata": {
    "_cell_guid": "b1076dfc-b9ad-4769-8c92-a6c4dae69d19",
    "_uuid": "8f2839f25d086af736a60e9eeb907d3b93b6e0e5",
    "execution": {
     "iopub.execute_input": "2022-01-31T15:43:36.170524Z",
     "iopub.status.busy": "2022-01-31T15:43:36.169175Z",
     "iopub.status.idle": "2022-01-31T15:43:36.619355Z",
     "shell.execute_reply": "2022-01-31T15:43:36.618546Z",
     "shell.execute_reply.started": "2022-01-31T15:42:35.307359Z"
    },
    "papermill": {
     "duration": 0.458394,
     "end_time": "2022-01-31T15:43:36.619577",
     "exception": false,
     "start_time": "2022-01-31T15:43:36.161183",
     "status": "completed"
    },
    "tags": []
   },
   "outputs": [
    {
     "name": "stdout",
     "output_type": "stream",
     "text": [
      "/kaggle/input/washington-pollution-levels/byState.json\n",
      "/kaggle/input/evs-in-washington/Electric_Vehicle_Population_Data.csv\n",
      "Index(['VIN (1-10)', 'County', 'City', 'State', 'ZIP Code', 'Model Year',\n",
      "       'Make', 'Model', 'Electric Vehicle Type',\n",
      "       'Clean Alternative Fuel Vehicle (CAFV) Eligibility', 'Electric Range',\n",
      "       'Base MSRP', 'Legislative District', 'DOL Vehicle ID',\n",
      "       'Vehicle Location'],\n",
      "      dtype='object')\n"
     ]
    }
   ],
   "source": [
    "# This Python 3 environment comes with many helpful analytics libraries installed\n",
    "# It is defined by the kaggle/python Docker image: https://github.com/kaggle/docker-python\n",
    "# For example, here's several helpful packages to load\n",
    "\n",
    "import numpy as np # linear algebra\n",
    "import pandas as pd # data processing, CSV file I/O (e.g. pd.read_csv)\n",
    "\n",
    "# Input data files are available in the read-only \"../input/\" directory\n",
    "# For example, running this (by clicking run or pressing Shift+Enter) will list all files under the input directory\n",
    "\n",
    "import os\n",
    "for dirname, _, filenames in os.walk('/kaggle/input'):\n",
    "    for filename in filenames:\n",
    "        print(os.path.join(dirname, filename))\n",
    "        \n",
    "\n",
    "ev_file_path = '/kaggle/input/evs-in-washington/Electric_Vehicle_Population_Data.csv'\n",
    "ev_data = pd.read_csv(ev_file_path) \n",
    "print(ev_data.columns)\n",
    "\n",
    "columns_of_interest = ['County', 'Electric Vehicle Type']\n",
    "two_columns_of_data = ev_data[columns_of_interest]\n",
    "\n",
    "# You can write up to 20GB to the current directory (/kaggle/working/) that gets preserved as output when you create a version using \"Save & Run All\" \n",
    "# You can also write temporary files to /kaggle/temp/, but they won't be saved outside of the current session"
   ]
  }
 ],
 "metadata": {
  "kernelspec": {
   "display_name": "Python 3",
   "language": "python",
   "name": "python3"
  },
  "language_info": {
   "codemirror_mode": {
    "name": "ipython",
    "version": 3
   },
   "file_extension": ".py",
   "mimetype": "text/x-python",
   "name": "python",
   "nbconvert_exporter": "python",
   "pygments_lexer": "ipython3",
   "version": "3.7.12"
  },
  "papermill": {
   "default_parameters": {},
   "duration": 11.215904,
   "end_time": "2022-01-31T15:43:37.237771",
   "environment_variables": {},
   "exception": null,
   "input_path": "__notebook__.ipynb",
   "output_path": "__notebook__.ipynb",
   "parameters": {},
   "start_time": "2022-01-31T15:43:26.021867",
   "version": "2.3.3"
  }
 },
 "nbformat": 4,
 "nbformat_minor": 5
}
